{
 "cells": [
  {
   "cell_type": "markdown",
   "metadata": {},
   "source": [
    "# ANZ virtual internship \n",
    "## Feature engineering"
   ]
  },
  {
   "cell_type": "markdown",
   "metadata": {},
   "source": [
    "Using the same transaction dataset, identify the annual salary for each customer\n",
    "\n",
    "Explore correlations between annual salary and various customer attributes (e.g. age). These attributes could be those that are readily available in the data (e.g. age) or those that you construct or derive yourself (e.g. those relating to purchasing behaviour). Visualise any interesting correlations using a scatter plot."
   ]
  },
  {
   "cell_type": "markdown",
   "metadata": {},
   "source": [
    "# Import libraries and data"
   ]
  },
  {
   "cell_type": "code",
   "execution_count": 1,
   "metadata": {},
   "outputs": [],
   "source": [
    "import pandas as pd\n",
    "import numpy as np\n",
    "import matplotlib.pyplot as plt\n",
    "import seaborn as sns\n",
    "sns.set_theme(style='whitegrid')\n",
    "%matplotlib inline"
   ]
  },
  {
   "cell_type": "code",
   "execution_count": 2,
   "metadata": {},
   "outputs": [
    {
     "data": {
      "text/html": [
       "<div>\n",
       "<style scoped>\n",
       "    .dataframe tbody tr th:only-of-type {\n",
       "        vertical-align: middle;\n",
       "    }\n",
       "\n",
       "    .dataframe tbody tr th {\n",
       "        vertical-align: top;\n",
       "    }\n",
       "\n",
       "    .dataframe thead th {\n",
       "        text-align: right;\n",
       "    }\n",
       "</style>\n",
       "<table border=\"1\" class=\"dataframe\">\n",
       "  <thead>\n",
       "    <tr style=\"text-align: right;\">\n",
       "      <th></th>\n",
       "      <th>status</th>\n",
       "      <th>card_present_flag</th>\n",
       "      <th>account</th>\n",
       "      <th>currency</th>\n",
       "      <th>txn_description</th>\n",
       "      <th>merchant_id</th>\n",
       "      <th>first_name</th>\n",
       "      <th>balance</th>\n",
       "      <th>gender</th>\n",
       "      <th>age</th>\n",
       "      <th>...</th>\n",
       "      <th>merchant_long_lat</th>\n",
       "      <th>movement</th>\n",
       "      <th>date</th>\n",
       "      <th>month</th>\n",
       "      <th>weekday</th>\n",
       "      <th>day</th>\n",
       "      <th>time</th>\n",
       "      <th>hour</th>\n",
       "      <th>c_long</th>\n",
       "      <th>c_lat</th>\n",
       "    </tr>\n",
       "  </thead>\n",
       "  <tbody>\n",
       "    <tr>\n",
       "      <th>0</th>\n",
       "      <td>authorized</td>\n",
       "      <td>1.0</td>\n",
       "      <td>ACC-1598451071</td>\n",
       "      <td>AUD</td>\n",
       "      <td>POS</td>\n",
       "      <td>81c48296-73be-44a7-befa-d053f48ce7cd</td>\n",
       "      <td>Diana</td>\n",
       "      <td>35.39</td>\n",
       "      <td>F</td>\n",
       "      <td>26</td>\n",
       "      <td>...</td>\n",
       "      <td>153.38 -27.99</td>\n",
       "      <td>debit</td>\n",
       "      <td>2018-08-01</td>\n",
       "      <td>8</td>\n",
       "      <td>2</td>\n",
       "      <td>1</td>\n",
       "      <td>01:01:15</td>\n",
       "      <td>1</td>\n",
       "      <td>153.41</td>\n",
       "      <td>-27.95</td>\n",
       "    </tr>\n",
       "    <tr>\n",
       "      <th>1</th>\n",
       "      <td>authorized</td>\n",
       "      <td>0.0</td>\n",
       "      <td>ACC-1598451071</td>\n",
       "      <td>AUD</td>\n",
       "      <td>SALES-POS</td>\n",
       "      <td>830a451c-316e-4a6a-bf25-e37caedca49e</td>\n",
       "      <td>Diana</td>\n",
       "      <td>21.20</td>\n",
       "      <td>F</td>\n",
       "      <td>26</td>\n",
       "      <td>...</td>\n",
       "      <td>151.21 -33.87</td>\n",
       "      <td>debit</td>\n",
       "      <td>2018-08-01</td>\n",
       "      <td>8</td>\n",
       "      <td>2</td>\n",
       "      <td>1</td>\n",
       "      <td>01:13:45</td>\n",
       "      <td>1</td>\n",
       "      <td>153.41</td>\n",
       "      <td>-27.95</td>\n",
       "    </tr>\n",
       "  </tbody>\n",
       "</table>\n",
       "<p>2 rows × 27 columns</p>\n",
       "</div>"
      ],
      "text/plain": [
       "       status  card_present_flag         account currency txn_description  \\\n",
       "0  authorized                1.0  ACC-1598451071      AUD             POS   \n",
       "1  authorized                0.0  ACC-1598451071      AUD       SALES-POS   \n",
       "\n",
       "                            merchant_id first_name  balance gender  age  ...  \\\n",
       "0  81c48296-73be-44a7-befa-d053f48ce7cd      Diana    35.39      F   26  ...   \n",
       "1  830a451c-316e-4a6a-bf25-e37caedca49e      Diana    21.20      F   26  ...   \n",
       "\n",
       "  merchant_long_lat movement       date  month weekday day      time hour  \\\n",
       "0     153.38 -27.99    debit 2018-08-01      8       2   1  01:01:15    1   \n",
       "1     151.21 -33.87    debit 2018-08-01      8       2   1  01:13:45    1   \n",
       "\n",
       "   c_long  c_lat  \n",
       "0  153.41 -27.95  \n",
       "1  153.41 -27.95  \n",
       "\n",
       "[2 rows x 27 columns]"
      ]
     },
     "execution_count": 2,
     "metadata": {},
     "output_type": "execute_result"
    }
   ],
   "source": [
    "df = pd.read_excel('clean_anz.xlsx')\n",
    "df.head(2)"
   ]
  },
  {
   "cell_type": "markdown",
   "metadata": {},
   "source": [
    "## Feature engineering"
   ]
  },
  {
   "cell_type": "markdown",
   "metadata": {},
   "source": [
    "#### Bin age to categories"
   ]
  },
  {
   "cell_type": "code",
   "execution_count": 3,
   "metadata": {},
   "outputs": [
    {
     "data": {
      "text/plain": [
       "0        26\n",
       "1        26\n",
       "2        38\n",
       "3        40\n",
       "4        26\n",
       "         ..\n",
       "11915    30\n",
       "11916    20\n",
       "11917    28\n",
       "11918    69\n",
       "11919    31\n",
       "Name: age, Length: 11920, dtype: int64"
      ]
     },
     "execution_count": 3,
     "metadata": {},
     "output_type": "execute_result"
    }
   ],
   "source": [
    "df['age']"
   ]
  },
  {
   "cell_type": "code",
   "execution_count": 4,
   "metadata": {},
   "outputs": [],
   "source": [
    "def agebin(age):\n",
    "    if age < 20:\n",
    "        return 'below20'\n",
    "    elif (age >= 20) & (age < 40):\n",
    "        return 'btwn20n40'\n",
    "    elif (age >= 40) & (age < 60):\n",
    "        return 'btwn40n60'\n",
    "    else:\n",
    "        return '60+'"
   ]
  },
  {
   "cell_type": "code",
   "execution_count": 5,
   "metadata": {},
   "outputs": [],
   "source": [
    "df['age_bin'] = df['age'].apply(lambda x: agebin(x))"
   ]
  },
  {
   "cell_type": "code",
   "execution_count": 6,
   "metadata": {
    "scrolled": true
   },
   "outputs": [
    {
     "data": {
      "text/plain": [
       "0        btwn20n40\n",
       "1        btwn20n40\n",
       "2        btwn20n40\n",
       "3        btwn40n60\n",
       "4        btwn20n40\n",
       "           ...    \n",
       "11915    btwn20n40\n",
       "11916    btwn20n40\n",
       "11917    btwn20n40\n",
       "11918          60+\n",
       "11919    btwn20n40\n",
       "Name: age_bin, Length: 11920, dtype: object"
      ]
     },
     "execution_count": 6,
     "metadata": {},
     "output_type": "execute_result"
    }
   ],
   "source": [
    "df['age_bin']"
   ]
  },
  {
   "cell_type": "markdown",
   "metadata": {},
   "source": [
    "#### State of customers"
   ]
  },
  {
   "cell_type": "code",
   "execution_count": 7,
   "metadata": {},
   "outputs": [],
   "source": [
    "# count number of transactions per customer per state\n",
    "state_df = df.groupby(['customer_id', 'merchant_state']).count()"
   ]
  },
  {
   "cell_type": "code",
   "execution_count": 8,
   "metadata": {},
   "outputs": [
    {
     "data": {
      "text/plain": [
       "customer_id     merchant_state\n",
       "CUS-1005756958  NSW                9\n",
       "                QLD               39\n",
       "CUS-1117979751  NSW                9\n",
       "                SA                 2\n",
       "                VIC                2\n",
       "                                  ..\n",
       "CUS-883482547   NSW               96\n",
       "                QLD                3\n",
       "                SA                 4\n",
       "                VIC                5\n",
       "                WA                12\n",
       "Name: transaction_id, Length: 408, dtype: int64"
      ]
     },
     "execution_count": 8,
     "metadata": {},
     "output_type": "execute_result"
    }
   ],
   "source": [
    "state_df['transaction_id']"
   ]
  },
  {
   "cell_type": "code",
   "execution_count": 9,
   "metadata": {},
   "outputs": [],
   "source": [
    "# convert numpy array to list\n",
    "id_and_state = state_df.index.tolist()"
   ]
  },
  {
   "cell_type": "code",
   "execution_count": 10,
   "metadata": {},
   "outputs": [],
   "source": [
    "# convert list of tuples to list of lists\n",
    "id_and_state = [list(i) for i in id_and_state] "
   ]
  },
  {
   "cell_type": "code",
   "execution_count": 11,
   "metadata": {},
   "outputs": [
    {
     "data": {
      "text/plain": [
       "['CUS-1005756958', 'NSW']"
      ]
     },
     "execution_count": 11,
     "metadata": {},
     "output_type": "execute_result"
    }
   ],
   "source": [
    "id_and_state[0]"
   ]
  },
  {
   "cell_type": "code",
   "execution_count": 12,
   "metadata": {},
   "outputs": [],
   "source": [
    "# add the number of transation by customer in a state to list\n",
    "for i in range(len(state_df)):\n",
    "    id_and_state[i].append(state_df['transaction_id'][i])"
   ]
  },
  {
   "cell_type": "code",
   "execution_count": 13,
   "metadata": {},
   "outputs": [
    {
     "data": {
      "text/plain": [
       "['CUS-1005756958', 'NSW', 9]"
      ]
     },
     "execution_count": 13,
     "metadata": {},
     "output_type": "execute_result"
    }
   ],
   "source": [
    "id_and_state[0]"
   ]
  },
  {
   "cell_type": "code",
   "execution_count": 14,
   "metadata": {},
   "outputs": [],
   "source": [
    "# group customer_id as keys in dictionary\n",
    "grouped = {}\n",
    "for i in id_and_state:\n",
    "    if i[0] not in grouped:\n",
    "        grouped[i[0]] = []\n",
    "    grouped[i[0]].append(i[1:])"
   ]
  },
  {
   "cell_type": "code",
   "execution_count": 15,
   "metadata": {},
   "outputs": [
    {
     "data": {
      "text/plain": [
       "{'CUS-1005756958': [['NSW', 9], ['QLD', 39]],\n",
       " 'CUS-1117979751': [['NSW', 9], ['SA', 2], ['VIC', 2], ['WA', 39]],\n",
       " 'CUS-1140341822': [['NSW', 5], ['QLD', 3], ['SA', 1], ['VIC', 55], ['WA', 1]],\n",
       " 'CUS-1147642491': [['NSW', 61], ['QLD', 1], ['SA', 4], ['VIC', 2], ['WA', 8]],\n",
       " 'CUS-1196156254': [['ACT', 23],\n",
       "  ['NSW', 42],\n",
       "  ['QLD', 3],\n",
       "  ['SA', 59],\n",
       "  ['VIC', 6],\n",
       "  ['WA', 30]],\n",
       " 'CUS-1220154422': [['NSW', 20], ['QLD', 13], ['VIC', 3], ['WA', 12]],\n",
       " 'CUS-1233833708': [['NSW', 2], ['QLD', 1], ['VIC', 22]],\n",
       " 'CUS-1271030853': [['NSW', 1], ['QLD', 1], ['SA', 3], ['VIC', 60]],\n",
       " 'CUS-127297539': [['NSW', 33],\n",
       "  ['QLD', 3],\n",
       "  ['SA', 6],\n",
       "  ['VIC', 2],\n",
       "  ['WA', 110]],\n",
       " 'CUS-134193016': [['NSW', 1], ['SA', 1], ['VIC', 25]],\n",
       " 'CUS-134833760': [['NSW', 7],\n",
       "  ['NT', 1],\n",
       "  ['QLD', 1],\n",
       "  ['SA', 1],\n",
       "  ['VIC', 1],\n",
       "  ['WA', 32]],\n",
       " 'CUS-1388323263': [['SA', 3], ['VIC', 50]],\n",
       " 'CUS-1433879684': [['NSW', 5], ['QLD', 2], ['SA', 6], ['VIC', 96], ['WA', 1]],\n",
       " 'CUS-1462656821': [['NSW', 55], ['SA', 2], ['VIC', 3], ['WA', 4]],\n",
       " 'CUS-1478398256': [['NSW', 6], ['QLD', 1], ['SA', 1], ['VIC', 53]],\n",
       " 'CUS-1499065773': [['NSW', 30], ['SA', 2], ['VIC', 1], ['WA', 2]],\n",
       " 'CUS-1604596597': [['ACT', 4],\n",
       "  ['NSW', 44],\n",
       "  ['QLD', 2],\n",
       "  ['SA', 33],\n",
       "  ['VIC', 4],\n",
       "  ['WA', 4]],\n",
       " 'CUS-1609060617': [['NSW', 8], ['SA', 1], ['VIC', 2], ['WA', 39]],\n",
       " 'CUS-1614226872': [['NSW', 16], ['QLD', 185], ['VIC', 12], ['WA', 7]],\n",
       " 'CUS-164374203': [['NSW', 90], ['QLD', 2], ['VIC', 2], ['WA', 7]],\n",
       " 'CUS-1646183815': [['VIC', 3]],\n",
       " 'CUS-1646621553': [['NSW', 15],\n",
       "  ['QLD', 1],\n",
       "  ['SA', 1],\n",
       "  ['VIC', 2],\n",
       "  ['WA', 58]],\n",
       " 'CUS-1654129794': [['NSW', 15],\n",
       "  ['QLD', 6],\n",
       "  ['SA', 1],\n",
       "  ['TAS', 14],\n",
       "  ['VIC', 23]],\n",
       " 'CUS-1669695324': [['NSW', 40],\n",
       "  ['QLD', 4],\n",
       "  ['SA', 5],\n",
       "  ['VIC', 4],\n",
       "  ['WA', 120]],\n",
       " 'CUS-1739931018': [['QLD', 1], ['VIC', 13]],\n",
       " 'CUS-1790886359': [['NSW', 4], ['SA', 3], ['VIC', 52]],\n",
       " 'CUS-1816693151': [['NSW', 3], ['QLD', 1], ['VIC', 1], ['WA', 16]],\n",
       " 'CUS-1842679196': [['ACT', 9],\n",
       "  ['NSW', 17],\n",
       "  ['NT', 1],\n",
       "  ['QLD', 3],\n",
       "  ['SA', 29],\n",
       "  ['WA', 9]],\n",
       " 'CUS-1892177589': [['NSW', 2], ['VIC', 60], ['WA', 1]],\n",
       " 'CUS-1896554896': [['ACT', 1],\n",
       "  ['NSW', 44],\n",
       "  ['QLD', 2],\n",
       "  ['SA', 18],\n",
       "  ['VIC', 2],\n",
       "  ['WA', 19]],\n",
       " 'CUS-1928710999': [['NSW', 6], ['SA', 3], ['VIC', 67]],\n",
       " 'CUS-2031327464': [['ACT', 1], ['NSW', 32], ['VIC', 4], ['WA', 4]],\n",
       " 'CUS-2059096722': [['NSW', 2],\n",
       "  ['QLD', 17],\n",
       "  ['SA', 1],\n",
       "  ['TAS', 2],\n",
       "  ['VIC', 47]],\n",
       " 'CUS-2083971310': [['ACT', 1], ['NSW', 45], ['QLD', 3], ['SA', 6], ['WA', 6]],\n",
       " 'CUS-2110742437': [['ACT', 8], ['NSW', 2], ['SA', 18], ['WA', 1]],\n",
       " 'CUS-2142601169': [['NSW', 227],\n",
       "  ['QLD', 7],\n",
       "  ['SA', 13],\n",
       "  ['VIC', 13],\n",
       "  ['WA', 16]],\n",
       " 'CUS-2155701614': [['QLD', 1], ['SA', 1], ['VIC', 21]],\n",
       " 'CUS-2178051368': [['NSW', 22],\n",
       "  ['QLD', 37],\n",
       "  ['SA', 1],\n",
       "  ['TAS', 17],\n",
       "  ['VIC', 47],\n",
       "  ['WA', 5]],\n",
       " 'CUS-2206365095': [['NSW', 6], ['QLD', 1], ['SA', 3], ['VIC', 76]],\n",
       " 'CUS-2283904812': [['SA', 1], ['VIC', 20], ['WA', 1]],\n",
       " 'CUS-2317998716': [['NSW', 3], ['QLD', 4], ['TAS', 2], ['VIC', 15]],\n",
       " 'CUS-2348881191': [['QLD', 1], ['SA', 1], ['VIC', 70]],\n",
       " 'CUS-2370108457': [['NSW', 1], ['QLD', 1], ['VIC', 15]],\n",
       " 'CUS-2376382098': [['NSW', 75], ['SA', 6], ['VIC', 2], ['WA', 3]],\n",
       " 'CUS-2484453271': [['NSW', 3], ['TAS', 1], ['VIC', 31]],\n",
       " 'CUS-2487424745': [['NSW', 63],\n",
       "  ['NT', 1],\n",
       "  ['QLD', 444],\n",
       "  ['SA', 1],\n",
       "  ['VIC', 17],\n",
       "  ['WA', 5]],\n",
       " 'CUS-2500783281': [['VIC', 4]],\n",
       " 'CUS-2505971401': [['ACT', 6],\n",
       "  ['NSW', 23],\n",
       "  ['SA', 30],\n",
       "  ['TAS', 1],\n",
       "  ['VIC', 2],\n",
       "  ['WA', 6]],\n",
       " 'CUS-2599279756': [['NSW', 16], ['QLD', 1], ['VIC', 79], ['WA', 1]],\n",
       " 'CUS-261674136': [['ACT', 1],\n",
       "  ['NSW', 22],\n",
       "  ['QLD', 11],\n",
       "  ['SA', 1],\n",
       "  ['VIC', 1],\n",
       "  ['WA', 31]],\n",
       " 'CUS-2630892467': [['QLD', 1], ['SA', 3]],\n",
       " 'CUS-2650223890': [['ACT', 3],\n",
       "  ['NSW', 13],\n",
       "  ['SA', 13],\n",
       "  ['VIC', 2],\n",
       "  ['WA', 1]],\n",
       " 'CUS-2663907001': [['NSW', 54], ['QLD', 1], ['SA', 3], ['VIC', 2], ['WA', 2]],\n",
       " 'CUS-2688605418': [['NSW', 88], ['QLD', 1], ['SA', 4], ['VIC', 1], ['WA', 7]],\n",
       " 'CUS-2695611575': [['NSW', 20], ['QLD', 163], ['VIC', 7], ['WA', 4]],\n",
       " 'CUS-2738291516': [['NSW', 4], ['QLD', 42], ['SA', 1], ['VIC', 2], ['WA', 3]],\n",
       " 'CUS-2819545904': [['NSW', 8], ['QLD', 15], ['TAS', 3], ['VIC', 2]],\n",
       " 'CUS-2977593493': [['NSW', 1], ['SA', 2], ['VIC', 27], ['WA', 1]],\n",
       " 'CUS-3026014945': [['NSW', 33],\n",
       "  ['QLD', 4],\n",
       "  ['SA', 15],\n",
       "  ['VIC', 5],\n",
       "  ['WA', 191]],\n",
       " 'CUS-3117610635': [['NSW', 4], ['QLD', 4], ['SA', 4], ['VIC', 84]],\n",
       " 'CUS-3129499595': [['NSW', 91], ['SA', 1], ['VIC', 2], ['WA', 3]],\n",
       " 'CUS-3142625864': [['NSW', 1], ['NT', 1], ['QLD', 4], ['SA', 3], ['VIC', 64]],\n",
       " 'CUS-3151318058': [['VIC', 9]],\n",
       " 'CUS-3174332735': [['SA', 1], ['VIC', 17]],\n",
       " 'CUS-3180318393': [['QLD', 1], ['SA', 2], ['VIC', 51]],\n",
       " 'CUS-3201519139': [['ACT', 5], ['NSW', 6], ['QLD', 2]],\n",
       " 'CUS-3249305314': [['NSW', 26], ['QLD', 1], ['SA', 2], ['VIC', 1], ['WA', 1]],\n",
       " 'CUS-325142416': [['NSW', 3], ['NT', 110], ['QLD', 4], ['VIC', 5], ['WA', 1]],\n",
       " 'CUS-3255104878': [['NSW', 1], ['QLD', 1], ['VIC', 19]],\n",
       " 'CUS-326006476': [['NSW', 24]],\n",
       " 'CUS-331942311': [['NSW', 30], ['QLD', 1], ['WA', 2]],\n",
       " 'CUS-3325710106': [['ACT', 1],\n",
       "  ['NSW', 8],\n",
       "  ['QLD', 1],\n",
       "  ['SA', 2],\n",
       "  ['VIC', 98]],\n",
       " 'CUS-3336454548': [['NSW', 2], ['QLD', 48], ['SA', 1], ['VIC', 3], ['WA', 1]],\n",
       " 'CUS-3378712515': [['ACT', 1],\n",
       "  ['NSW', 8],\n",
       "  ['QLD', 14],\n",
       "  ['SA', 4],\n",
       "  ['VIC', 173],\n",
       "  ['WA', 1]],\n",
       " 'CUS-3395687666': [['ACT', 1], ['NSW', 6], ['QLD', 3], ['SA', 3], ['WA', 1]],\n",
       " 'CUS-3431016847': [['NSW', 35], ['QLD', 2], ['SA', 2], ['VIC', 2], ['WA', 1]],\n",
       " 'CUS-3462882033': [['NSW', 2], ['SA', 3], ['VIC', 53]],\n",
       " 'CUS-3702001629': [['NSW', 4],\n",
       "  ['QLD', 55],\n",
       "  ['TAS', 1],\n",
       "  ['VIC', 2],\n",
       "  ['WA', 1]],\n",
       " 'CUS-3716701010': [['NSW', 11], ['SA', 4], ['VIC', 2], ['WA', 35]],\n",
       " 'CUS-3904958894': [['NSW', 42], ['SA', 1], ['VIC', 3], ['WA', 3]],\n",
       " 'CUS-3989008654': [['NSW', 4], ['WA', 14]],\n",
       " 'CUS-4023861240': [['NSW', 20],\n",
       "  ['QLD', 16],\n",
       "  ['TAS', 22],\n",
       "  ['VIC', 44],\n",
       "  ['WA', 13]],\n",
       " 'CUS-4123612273': [['NSW', 2], ['SA', 4], ['VIC', 79]],\n",
       " 'CUS-4142663097': [['NSW', 13],\n",
       "  ['NT', 88],\n",
       "  ['QLD', 3],\n",
       "  ['VIC', 5],\n",
       "  ['WA', 3]],\n",
       " 'CUS-423725039': [['NSW', 3], ['SA', 4], ['VIC', 2], ['WA', 36]],\n",
       " 'CUS-443776336': [['NSW', 19], ['SA', 14], ['VIC', 1], ['WA', 97]],\n",
       " 'CUS-495599312': [['NSW', 3], ['NT', 3], ['QLD', 1], ['VIC', 2]],\n",
       " 'CUS-497688347': [['ACT', 4], ['NSW', 21], ['SA', 30], ['VIC', 1], ['WA', 3]],\n",
       " 'CUS-511326734': [['NSW', 62], ['QLD', 2], ['SA', 4], ['VIC', 2], ['WA', 2]],\n",
       " 'CUS-51506836': [['NSW', 21], ['QLD', 169], ['SA', 1], ['VIC', 7], ['WA', 4]],\n",
       " 'CUS-527400765': [['NSW', 7], ['QLD', 2], ['SA', 1], ['VIC', 70]],\n",
       " 'CUS-537508723': [['NSW', 6],\n",
       "  ['QLD', 2],\n",
       "  ['SA', 1],\n",
       "  ['TAS', 5],\n",
       "  ['VIC', 97],\n",
       "  ['WA', 1]],\n",
       " 'CUS-55310383': [['NSW', 26], ['QLD', 1], ['VIC', 6], ['WA', 1]],\n",
       " 'CUS-586638664': [['NSW', 47], ['SA', 5], ['VIC', 2], ['WA', 20]],\n",
       " 'CUS-72755508': [['NSW', 41], ['VIC', 1], ['WA', 3]],\n",
       " 'CUS-809013380': [['NSW', 56], ['QLD', 2], ['VIC', 4], ['WA', 26]],\n",
       " 'CUS-860700529': [['ACT', 1],\n",
       "  ['NSW', 21],\n",
       "  ['QLD', 173],\n",
       "  ['SA', 1],\n",
       "  ['VIC', 7],\n",
       "  ['WA', 3]],\n",
       " 'CUS-880898248': [['ACT', 1], ['NSW', 5], ['SA', 1], ['VIC', 49]],\n",
       " 'CUS-883482547': [['NSW', 96], ['QLD', 3], ['SA', 4], ['VIC', 5], ['WA', 12]]}"
      ]
     },
     "execution_count": 15,
     "metadata": {},
     "output_type": "execute_result"
    }
   ],
   "source": [
    "grouped"
   ]
  },
  {
   "cell_type": "code",
   "execution_count": 16,
   "metadata": {},
   "outputs": [
    {
     "name": "stdout",
     "output_type": "stream",
     "text": [
      "CUS-1005756958\n",
      "[['NSW', 9], ['QLD', 39]]\n",
      "QLD\n",
      "CUS-1117979751\n",
      "[['NSW', 9], ['SA', 2], ['VIC', 2], ['WA', 39]]\n",
      "WA\n",
      "CUS-1140341822\n",
      "[['NSW', 5], ['QLD', 3], ['SA', 1], ['VIC', 55], ['WA', 1]]\n",
      "VIC\n",
      "CUS-1147642491\n",
      "[['NSW', 61], ['QLD', 1], ['SA', 4], ['VIC', 2], ['WA', 8]]\n",
      "NSW\n",
      "CUS-1196156254\n",
      "[['ACT', 23], ['NSW', 42], ['QLD', 3], ['SA', 59], ['VIC', 6], ['WA', 30]]\n",
      "SA\n",
      "CUS-1220154422\n",
      "[['NSW', 20], ['QLD', 13], ['VIC', 3], ['WA', 12]]\n",
      "NSW\n",
      "CUS-1233833708\n",
      "[['NSW', 2], ['QLD', 1], ['VIC', 22]]\n",
      "VIC\n",
      "CUS-1271030853\n",
      "[['NSW', 1], ['QLD', 1], ['SA', 3], ['VIC', 60]]\n",
      "VIC\n",
      "CUS-127297539\n",
      "[['NSW', 33], ['QLD', 3], ['SA', 6], ['VIC', 2], ['WA', 110]]\n",
      "WA\n",
      "CUS-134193016\n",
      "[['NSW', 1], ['SA', 1], ['VIC', 25]]\n",
      "VIC\n",
      "CUS-134833760\n",
      "[['NSW', 7], ['NT', 1], ['QLD', 1], ['SA', 1], ['VIC', 1], ['WA', 32]]\n",
      "WA\n",
      "CUS-1388323263\n",
      "[['SA', 3], ['VIC', 50]]\n",
      "VIC\n",
      "CUS-1433879684\n",
      "[['NSW', 5], ['QLD', 2], ['SA', 6], ['VIC', 96], ['WA', 1]]\n",
      "VIC\n",
      "CUS-1462656821\n",
      "[['NSW', 55], ['SA', 2], ['VIC', 3], ['WA', 4]]\n",
      "NSW\n",
      "CUS-1478398256\n",
      "[['NSW', 6], ['QLD', 1], ['SA', 1], ['VIC', 53]]\n",
      "VIC\n",
      "CUS-1499065773\n",
      "[['NSW', 30], ['SA', 2], ['VIC', 1], ['WA', 2]]\n",
      "NSW\n",
      "CUS-1604596597\n",
      "[['ACT', 4], ['NSW', 44], ['QLD', 2], ['SA', 33], ['VIC', 4], ['WA', 4]]\n",
      "NSW\n",
      "CUS-1609060617\n",
      "[['NSW', 8], ['SA', 1], ['VIC', 2], ['WA', 39]]\n",
      "WA\n",
      "CUS-1614226872\n",
      "[['NSW', 16], ['QLD', 185], ['VIC', 12], ['WA', 7]]\n",
      "QLD\n",
      "CUS-164374203\n",
      "[['NSW', 90], ['QLD', 2], ['VIC', 2], ['WA', 7]]\n",
      "NSW\n",
      "CUS-1646183815\n",
      "[['VIC', 3]]\n",
      "VIC\n",
      "CUS-1646621553\n",
      "[['NSW', 15], ['QLD', 1], ['SA', 1], ['VIC', 2], ['WA', 58]]\n",
      "WA\n",
      "CUS-1654129794\n",
      "[['NSW', 15], ['QLD', 6], ['SA', 1], ['TAS', 14], ['VIC', 23]]\n",
      "VIC\n",
      "CUS-1669695324\n",
      "[['NSW', 40], ['QLD', 4], ['SA', 5], ['VIC', 4], ['WA', 120]]\n",
      "WA\n",
      "CUS-1739931018\n",
      "[['QLD', 1], ['VIC', 13]]\n",
      "VIC\n",
      "CUS-1790886359\n",
      "[['NSW', 4], ['SA', 3], ['VIC', 52]]\n",
      "VIC\n",
      "CUS-1816693151\n",
      "[['NSW', 3], ['QLD', 1], ['VIC', 1], ['WA', 16]]\n",
      "WA\n",
      "CUS-1842679196\n",
      "[['ACT', 9], ['NSW', 17], ['NT', 1], ['QLD', 3], ['SA', 29], ['WA', 9]]\n",
      "SA\n",
      "CUS-1892177589\n",
      "[['NSW', 2], ['VIC', 60], ['WA', 1]]\n",
      "VIC\n",
      "CUS-1896554896\n",
      "[['ACT', 1], ['NSW', 44], ['QLD', 2], ['SA', 18], ['VIC', 2], ['WA', 19]]\n",
      "NSW\n",
      "CUS-1928710999\n",
      "[['NSW', 6], ['SA', 3], ['VIC', 67]]\n",
      "VIC\n",
      "CUS-2031327464\n",
      "[['ACT', 1], ['NSW', 32], ['VIC', 4], ['WA', 4]]\n",
      "NSW\n",
      "CUS-2059096722\n",
      "[['NSW', 2], ['QLD', 17], ['SA', 1], ['TAS', 2], ['VIC', 47]]\n",
      "VIC\n",
      "CUS-2083971310\n",
      "[['ACT', 1], ['NSW', 45], ['QLD', 3], ['SA', 6], ['WA', 6]]\n",
      "NSW\n",
      "CUS-2110742437\n",
      "[['ACT', 8], ['NSW', 2], ['SA', 18], ['WA', 1]]\n",
      "SA\n",
      "CUS-2142601169\n",
      "[['NSW', 227], ['QLD', 7], ['SA', 13], ['VIC', 13], ['WA', 16]]\n",
      "NSW\n",
      "CUS-2155701614\n",
      "[['QLD', 1], ['SA', 1], ['VIC', 21]]\n",
      "VIC\n",
      "CUS-2178051368\n",
      "[['NSW', 22], ['QLD', 37], ['SA', 1], ['TAS', 17], ['VIC', 47], ['WA', 5]]\n",
      "VIC\n",
      "CUS-2206365095\n",
      "[['NSW', 6], ['QLD', 1], ['SA', 3], ['VIC', 76]]\n",
      "VIC\n",
      "CUS-2283904812\n",
      "[['SA', 1], ['VIC', 20], ['WA', 1]]\n",
      "VIC\n",
      "CUS-2317998716\n",
      "[['NSW', 3], ['QLD', 4], ['TAS', 2], ['VIC', 15]]\n",
      "VIC\n",
      "CUS-2348881191\n",
      "[['QLD', 1], ['SA', 1], ['VIC', 70]]\n",
      "VIC\n",
      "CUS-2370108457\n",
      "[['NSW', 1], ['QLD', 1], ['VIC', 15]]\n",
      "VIC\n",
      "CUS-2376382098\n",
      "[['NSW', 75], ['SA', 6], ['VIC', 2], ['WA', 3]]\n",
      "NSW\n",
      "CUS-2484453271\n",
      "[['NSW', 3], ['TAS', 1], ['VIC', 31]]\n",
      "VIC\n",
      "CUS-2487424745\n",
      "[['NSW', 63], ['NT', 1], ['QLD', 444], ['SA', 1], ['VIC', 17], ['WA', 5]]\n",
      "QLD\n",
      "CUS-2500783281\n",
      "[['VIC', 4]]\n",
      "VIC\n",
      "CUS-2505971401\n",
      "[['ACT', 6], ['NSW', 23], ['SA', 30], ['TAS', 1], ['VIC', 2], ['WA', 6]]\n",
      "SA\n",
      "CUS-2599279756\n",
      "[['NSW', 16], ['QLD', 1], ['VIC', 79], ['WA', 1]]\n",
      "VIC\n",
      "CUS-261674136\n",
      "[['ACT', 1], ['NSW', 22], ['QLD', 11], ['SA', 1], ['VIC', 1], ['WA', 31]]\n",
      "WA\n",
      "CUS-2630892467\n",
      "[['QLD', 1], ['SA', 3]]\n",
      "SA\n",
      "CUS-2650223890\n",
      "[['ACT', 3], ['NSW', 13], ['SA', 13], ['VIC', 2], ['WA', 1]]\n",
      "NSW\n",
      "CUS-2663907001\n",
      "[['NSW', 54], ['QLD', 1], ['SA', 3], ['VIC', 2], ['WA', 2]]\n",
      "NSW\n",
      "CUS-2688605418\n",
      "[['NSW', 88], ['QLD', 1], ['SA', 4], ['VIC', 1], ['WA', 7]]\n",
      "NSW\n",
      "CUS-2695611575\n",
      "[['NSW', 20], ['QLD', 163], ['VIC', 7], ['WA', 4]]\n",
      "QLD\n",
      "CUS-2738291516\n",
      "[['NSW', 4], ['QLD', 42], ['SA', 1], ['VIC', 2], ['WA', 3]]\n",
      "QLD\n",
      "CUS-2819545904\n",
      "[['NSW', 8], ['QLD', 15], ['TAS', 3], ['VIC', 2]]\n",
      "QLD\n",
      "CUS-2977593493\n",
      "[['NSW', 1], ['SA', 2], ['VIC', 27], ['WA', 1]]\n",
      "VIC\n",
      "CUS-3026014945\n",
      "[['NSW', 33], ['QLD', 4], ['SA', 15], ['VIC', 5], ['WA', 191]]\n",
      "WA\n",
      "CUS-3117610635\n",
      "[['NSW', 4], ['QLD', 4], ['SA', 4], ['VIC', 84]]\n",
      "VIC\n",
      "CUS-3129499595\n",
      "[['NSW', 91], ['SA', 1], ['VIC', 2], ['WA', 3]]\n",
      "NSW\n",
      "CUS-3142625864\n",
      "[['NSW', 1], ['NT', 1], ['QLD', 4], ['SA', 3], ['VIC', 64]]\n",
      "VIC\n",
      "CUS-3151318058\n",
      "[['VIC', 9]]\n",
      "VIC\n",
      "CUS-3174332735\n",
      "[['SA', 1], ['VIC', 17]]\n",
      "VIC\n",
      "CUS-3180318393\n",
      "[['QLD', 1], ['SA', 2], ['VIC', 51]]\n",
      "VIC\n",
      "CUS-3201519139\n",
      "[['ACT', 5], ['NSW', 6], ['QLD', 2]]\n",
      "NSW\n",
      "CUS-3249305314\n",
      "[['NSW', 26], ['QLD', 1], ['SA', 2], ['VIC', 1], ['WA', 1]]\n",
      "NSW\n",
      "CUS-325142416\n",
      "[['NSW', 3], ['NT', 110], ['QLD', 4], ['VIC', 5], ['WA', 1]]\n",
      "NT\n",
      "CUS-3255104878\n",
      "[['NSW', 1], ['QLD', 1], ['VIC', 19]]\n",
      "VIC\n",
      "CUS-326006476\n",
      "[['NSW', 24]]\n",
      "NSW\n",
      "CUS-331942311\n",
      "[['NSW', 30], ['QLD', 1], ['WA', 2]]\n",
      "NSW\n",
      "CUS-3325710106\n",
      "[['ACT', 1], ['NSW', 8], ['QLD', 1], ['SA', 2], ['VIC', 98]]\n",
      "VIC\n",
      "CUS-3336454548\n",
      "[['NSW', 2], ['QLD', 48], ['SA', 1], ['VIC', 3], ['WA', 1]]\n",
      "QLD\n",
      "CUS-3378712515\n",
      "[['ACT', 1], ['NSW', 8], ['QLD', 14], ['SA', 4], ['VIC', 173], ['WA', 1]]\n",
      "VIC\n",
      "CUS-3395687666\n",
      "[['ACT', 1], ['NSW', 6], ['QLD', 3], ['SA', 3], ['WA', 1]]\n",
      "NSW\n",
      "CUS-3431016847\n",
      "[['NSW', 35], ['QLD', 2], ['SA', 2], ['VIC', 2], ['WA', 1]]\n",
      "NSW\n",
      "CUS-3462882033\n",
      "[['NSW', 2], ['SA', 3], ['VIC', 53]]\n",
      "VIC\n",
      "CUS-3702001629\n",
      "[['NSW', 4], ['QLD', 55], ['TAS', 1], ['VIC', 2], ['WA', 1]]\n",
      "QLD\n",
      "CUS-3716701010\n",
      "[['NSW', 11], ['SA', 4], ['VIC', 2], ['WA', 35]]\n",
      "WA\n",
      "CUS-3904958894\n",
      "[['NSW', 42], ['SA', 1], ['VIC', 3], ['WA', 3]]\n",
      "NSW\n",
      "CUS-3989008654\n",
      "[['NSW', 4], ['WA', 14]]\n",
      "WA\n",
      "CUS-4023861240\n",
      "[['NSW', 20], ['QLD', 16], ['TAS', 22], ['VIC', 44], ['WA', 13]]\n",
      "VIC\n",
      "CUS-4123612273\n",
      "[['NSW', 2], ['SA', 4], ['VIC', 79]]\n",
      "VIC\n",
      "CUS-4142663097\n",
      "[['NSW', 13], ['NT', 88], ['QLD', 3], ['VIC', 5], ['WA', 3]]\n",
      "NT\n",
      "CUS-423725039\n",
      "[['NSW', 3], ['SA', 4], ['VIC', 2], ['WA', 36]]\n",
      "WA\n",
      "CUS-443776336\n",
      "[['NSW', 19], ['SA', 14], ['VIC', 1], ['WA', 97]]\n",
      "WA\n",
      "CUS-495599312\n",
      "[['NSW', 3], ['NT', 3], ['QLD', 1], ['VIC', 2]]\n",
      "NSW\n",
      "CUS-497688347\n",
      "[['ACT', 4], ['NSW', 21], ['SA', 30], ['VIC', 1], ['WA', 3]]\n",
      "SA\n",
      "CUS-511326734\n",
      "[['NSW', 62], ['QLD', 2], ['SA', 4], ['VIC', 2], ['WA', 2]]\n",
      "NSW\n",
      "CUS-51506836\n",
      "[['NSW', 21], ['QLD', 169], ['SA', 1], ['VIC', 7], ['WA', 4]]\n",
      "QLD\n",
      "CUS-527400765\n",
      "[['NSW', 7], ['QLD', 2], ['SA', 1], ['VIC', 70]]\n",
      "VIC\n",
      "CUS-537508723\n",
      "[['NSW', 6], ['QLD', 2], ['SA', 1], ['TAS', 5], ['VIC', 97], ['WA', 1]]\n",
      "VIC\n",
      "CUS-55310383\n",
      "[['NSW', 26], ['QLD', 1], ['VIC', 6], ['WA', 1]]\n",
      "NSW\n",
      "CUS-586638664\n",
      "[['NSW', 47], ['SA', 5], ['VIC', 2], ['WA', 20]]\n",
      "NSW\n",
      "CUS-72755508\n",
      "[['NSW', 41], ['VIC', 1], ['WA', 3]]\n",
      "NSW\n",
      "CUS-809013380\n",
      "[['NSW', 56], ['QLD', 2], ['VIC', 4], ['WA', 26]]\n",
      "NSW\n",
      "CUS-860700529\n",
      "[['ACT', 1], ['NSW', 21], ['QLD', 173], ['SA', 1], ['VIC', 7], ['WA', 3]]\n",
      "QLD\n",
      "CUS-880898248\n",
      "[['ACT', 1], ['NSW', 5], ['SA', 1], ['VIC', 49]]\n",
      "VIC\n",
      "CUS-883482547\n",
      "[['NSW', 96], ['QLD', 3], ['SA', 4], ['VIC', 5], ['WA', 12]]\n",
      "NSW\n"
     ]
    }
   ],
   "source": [
    "# get the state where custoner has made most transactions\n",
    "c_states = []\n",
    "# for each cutomer_id key \n",
    "for i in grouped: \n",
    "    print(i)\n",
    "    print(grouped[i])\n",
    "    biggest = [0]\n",
    "# find the biggest between lists behind a key\n",
    "    for l in range(len(grouped[i])): # \n",
    "        if grouped[i][l][1] > biggest:\n",
    "            biggest = grouped[i][l][1]\n",
    "            st = grouped[i][l][0]\n",
    "#   print(biggest) \n",
    "    print(st)\n",
    "    c_states.append(st)"
   ]
  },
  {
   "cell_type": "code",
   "execution_count": 17,
   "metadata": {},
   "outputs": [],
   "source": [
    "c_states = pd.DataFrame(c_states, columns=['state'])"
   ]
  },
  {
   "cell_type": "code",
   "execution_count": 18,
   "metadata": {},
   "outputs": [],
   "source": [
    "# get list of customer_id in the same order as states is\n",
    "def getList(dict): \n",
    "    list = [] \n",
    "    for key in dict.keys(): \n",
    "        list.append(key) \n",
    "          \n",
    "    return list\n",
    "      \n",
    "c_ids = getList(grouped)"
   ]
  },
  {
   "cell_type": "code",
   "execution_count": 19,
   "metadata": {},
   "outputs": [],
   "source": [
    "customer_state_df = pd.DataFrame(c_ids, columns=['id'])"
   ]
  },
  {
   "cell_type": "code",
   "execution_count": 20,
   "metadata": {},
   "outputs": [],
   "source": [
    "# match id with state\n",
    "customer_state_df = pd.concat([customer_state_df, c_states], axis=1)"
   ]
  },
  {
   "cell_type": "code",
   "execution_count": 21,
   "metadata": {},
   "outputs": [
    {
     "data": {
      "text/html": [
       "<div>\n",
       "<style scoped>\n",
       "    .dataframe tbody tr th:only-of-type {\n",
       "        vertical-align: middle;\n",
       "    }\n",
       "\n",
       "    .dataframe tbody tr th {\n",
       "        vertical-align: top;\n",
       "    }\n",
       "\n",
       "    .dataframe thead th {\n",
       "        text-align: right;\n",
       "    }\n",
       "</style>\n",
       "<table border=\"1\" class=\"dataframe\">\n",
       "  <thead>\n",
       "    <tr style=\"text-align: right;\">\n",
       "      <th></th>\n",
       "      <th>id</th>\n",
       "      <th>state</th>\n",
       "    </tr>\n",
       "  </thead>\n",
       "  <tbody>\n",
       "    <tr>\n",
       "      <th>0</th>\n",
       "      <td>CUS-1005756958</td>\n",
       "      <td>QLD</td>\n",
       "    </tr>\n",
       "    <tr>\n",
       "      <th>1</th>\n",
       "      <td>CUS-1117979751</td>\n",
       "      <td>WA</td>\n",
       "    </tr>\n",
       "    <tr>\n",
       "      <th>2</th>\n",
       "      <td>CUS-1140341822</td>\n",
       "      <td>VIC</td>\n",
       "    </tr>\n",
       "    <tr>\n",
       "      <th>3</th>\n",
       "      <td>CUS-1147642491</td>\n",
       "      <td>NSW</td>\n",
       "    </tr>\n",
       "    <tr>\n",
       "      <th>4</th>\n",
       "      <td>CUS-1196156254</td>\n",
       "      <td>SA</td>\n",
       "    </tr>\n",
       "    <tr>\n",
       "      <th>...</th>\n",
       "      <td>...</td>\n",
       "      <td>...</td>\n",
       "    </tr>\n",
       "    <tr>\n",
       "      <th>94</th>\n",
       "      <td>CUS-72755508</td>\n",
       "      <td>NSW</td>\n",
       "    </tr>\n",
       "    <tr>\n",
       "      <th>95</th>\n",
       "      <td>CUS-809013380</td>\n",
       "      <td>NSW</td>\n",
       "    </tr>\n",
       "    <tr>\n",
       "      <th>96</th>\n",
       "      <td>CUS-860700529</td>\n",
       "      <td>QLD</td>\n",
       "    </tr>\n",
       "    <tr>\n",
       "      <th>97</th>\n",
       "      <td>CUS-880898248</td>\n",
       "      <td>VIC</td>\n",
       "    </tr>\n",
       "    <tr>\n",
       "      <th>98</th>\n",
       "      <td>CUS-883482547</td>\n",
       "      <td>NSW</td>\n",
       "    </tr>\n",
       "  </tbody>\n",
       "</table>\n",
       "<p>99 rows × 2 columns</p>\n",
       "</div>"
      ],
      "text/plain": [
       "                id state\n",
       "0   CUS-1005756958   QLD\n",
       "1   CUS-1117979751    WA\n",
       "2   CUS-1140341822   VIC\n",
       "3   CUS-1147642491   NSW\n",
       "4   CUS-1196156254    SA\n",
       "..             ...   ...\n",
       "94    CUS-72755508   NSW\n",
       "95   CUS-809013380   NSW\n",
       "96   CUS-860700529   QLD\n",
       "97   CUS-880898248   VIC\n",
       "98   CUS-883482547   NSW\n",
       "\n",
       "[99 rows x 2 columns]"
      ]
     },
     "execution_count": 21,
     "metadata": {},
     "output_type": "execute_result"
    }
   ],
   "source": [
    "customer_state_df"
   ]
  },
  {
   "cell_type": "code",
   "execution_count": 22,
   "metadata": {},
   "outputs": [
    {
     "data": {
      "text/plain": [
       "'VIC'"
      ]
     },
     "execution_count": 22,
     "metadata": {},
     "output_type": "execute_result"
    }
   ],
   "source": [
    "customer_state_df[customer_state_df['id']=='CUS-1140341822']['state'].item()"
   ]
  },
  {
   "cell_type": "code",
   "execution_count": 23,
   "metadata": {},
   "outputs": [],
   "source": [
    "# get cutomer state to transaction data\n",
    "customer_state = []\n",
    "\n",
    "for i in df['customer_id']:\n",
    "    customer_state.append(customer_state_df[customer_state_df['id']==i]['state'].item())\n",
    "    \n",
    "df['state'] = customer_state"
   ]
  },
  {
   "cell_type": "markdown",
   "metadata": {},
   "source": [
    "#### Annual salary for each customer"
   ]
  },
  {
   "cell_type": "code",
   "execution_count": 24,
   "metadata": {},
   "outputs": [],
   "source": [
    "# make a new dataframe with only salary payments\n",
    "df_salaries = df[df['txn_description']=='PAY/SALARY'].groupby('customer_id').sum()"
   ]
  },
  {
   "cell_type": "code",
   "execution_count": 25,
   "metadata": {},
   "outputs": [],
   "source": [
    "# divide the sum of each customer's salary payment with 3 to get an average monthly pay \n",
    "# and then multiply with 12 to get an annual salary\n",
    "annual_salaries = df_salaries['amount']/3*12 # annual salary for each customer"
   ]
  },
  {
   "cell_type": "code",
   "execution_count": 26,
   "metadata": {},
   "outputs": [
    {
     "data": {
      "text/plain": [
       "50464.44"
      ]
     },
     "execution_count": 26,
     "metadata": {},
     "output_type": "execute_result"
    }
   ],
   "source": [
    "annual_salaries.loc['CUS-1005756958']"
   ]
  },
  {
   "cell_type": "code",
   "execution_count": 27,
   "metadata": {},
   "outputs": [],
   "source": [
    "# match every customer_id with their calculated annual salary\n",
    "salaries = []\n",
    "\n",
    "for i in df['customer_id']:\n",
    "    salaries.append(int(annual_salaries.loc[i]))\n",
    "    \n",
    "df['annual_salary'] = salaries"
   ]
  },
  {
   "cell_type": "code",
   "execution_count": 48,
   "metadata": {},
   "outputs": [
    {
     "data": {
      "image/png": "[encoded data removed]",
      "text/plain": [
       "<Figure size 864x180 with 1 Axes>"
      ]
     },
     "metadata": {
      "needs_background": "light"
     },
     "output_type": "display_data"
    }
   ],
   "source": [
    "# skewed distribution\n",
    "fig, ax = plt.subplots(figsize=(12,2.5))\n",
    "plt.grid(False)\n",
    "plt.title('Annual salary distribution')\n",
    "plt.xlabel('Annual salary')\n",
    "sns.histplot(ax=ax, data=df['annual_salary'], bins=11);\n",
    "# plt.savefig('annual_salary_dist_V.jpg')"
   ]
  },
  {
   "cell_type": "markdown",
   "metadata": {},
   "source": [
    "### POS or SALES-POS purchase transactions"
   ]
  },
  {
   "cell_type": "code",
   "execution_count": 30,
   "metadata": {},
   "outputs": [],
   "source": [
    "# 'POS' + 'SALES-POS' VS rest of transactions\n",
    "pos_df = df[(df['txn_description']=='POS') | (df['txn_description']=='SALES-POS')]"
   ]
  },
  {
   "cell_type": "markdown",
   "metadata": {},
   "source": [
    "#### Number of purchase transactions per week"
   ]
  },
  {
   "cell_type": "code",
   "execution_count": 31,
   "metadata": {},
   "outputs": [],
   "source": [
    "# count number of purchases per customer\n",
    "pos_trans_df = pos_df.groupby('customer_id').count()"
   ]
  },
  {
   "cell_type": "code",
   "execution_count": 34,
   "metadata": {},
   "outputs": [],
   "source": [
    "# average number of purchases per week for customer\n",
    "weekly_purch = round(pos_trans_df['transaction_id']/7, 0)"
   ]
  },
  {
   "cell_type": "code",
   "execution_count": 35,
   "metadata": {},
   "outputs": [],
   "source": [
    "# average number of transactions per week for customer\n",
    "avg_weekly_purch_num = []\n",
    "\n",
    "for i in df['customer_id']:\n",
    "    avg_weekly_purch_num.append(int(weekly_purch.loc[i]))\n",
    "    \n",
    "df['avg_weekly_purch_num'] = avg_weekly_purch_num"
   ]
  },
  {
   "cell_type": "markdown",
   "metadata": {},
   "source": [
    "#### Number of transactions per week overall"
   ]
  },
  {
   "cell_type": "code",
   "execution_count": 38,
   "metadata": {},
   "outputs": [],
   "source": [
    "# count number of transactions per customer\n",
    "trans_df = df.groupby('customer_id').count()"
   ]
  },
  {
   "cell_type": "code",
   "execution_count": 39,
   "metadata": {},
   "outputs": [],
   "source": [
    "# average number of transactions per week for customer\n",
    "weekly_trans = round(trans_df['transaction_id']/7, 0)"
   ]
  },
  {
   "cell_type": "code",
   "execution_count": 40,
   "metadata": {},
   "outputs": [],
   "source": [
    "# average number of transactions per week for customer\n",
    "avg_weekly_trans_num = []\n",
    "\n",
    "for i in df['customer_id']:\n",
    "    avg_weekly_trans_num.append(int(weekly_trans.loc[i]))\n",
    "    \n",
    "df['avg_weekly_trans_num'] = avg_weekly_trans_num"
   ]
  },
  {
   "cell_type": "markdown",
   "metadata": {},
   "source": [
    "#### Purchase transaction days"
   ]
  },
  {
   "cell_type": "code",
   "execution_count": 43,
   "metadata": {},
   "outputs": [
    {
     "data": {
      "text/plain": [
       "29"
      ]
     },
     "execution_count": 43,
     "metadata": {},
     "output_type": "execute_result"
    }
   ],
   "source": [
    "# number of days with transactions per customer. Do they make purchases every day?\n",
    "pos_df[pos_df['customer_id']=='CUS-809013380']['date'].nunique()"
   ]
  },
  {
   "cell_type": "code",
   "execution_count": 44,
   "metadata": {},
   "outputs": [],
   "source": [
    "no_trans_days = []\n",
    "\n",
    "for i in df['customer_id']:\n",
    "    no_trans_days.append(pos_df[pos_df['customer_id']==i]['date'].nunique())"
   ]
  },
  {
   "cell_type": "code",
   "execution_count": 45,
   "metadata": {},
   "outputs": [],
   "source": [
    "df['no_trans_days'] = no_trans_days"
   ]
  },
  {
   "cell_type": "markdown",
   "metadata": {},
   "source": [
    "#### Average purchase amount"
   ]
  },
  {
   "cell_type": "code",
   "execution_count": 46,
   "metadata": {},
   "outputs": [
    {
     "data": {
      "text/plain": [
       "27"
      ]
     },
     "execution_count": 46,
     "metadata": {},
     "output_type": "execute_result"
    }
   ],
   "source": [
    "int(round(pos_df[pos_df['customer_id']=='CUS-809013380']['amount'].mean(), 0))"
   ]
  },
  {
   "cell_type": "code",
   "execution_count": 47,
   "metadata": {},
   "outputs": [],
   "source": [
    "avg_trans_amount = []\n",
    "\n",
    "for i in df['customer_id']:\n",
    "    avg_trans_amount.append(int(round(pos_df[pos_df['customer_id']==i]['amount'].mean(), 0)))"
   ]
  },
  {
   "cell_type": "code",
   "execution_count": 48,
   "metadata": {},
   "outputs": [],
   "source": [
    "df['avg_trans_amount'] = avg_trans_amount"
   ]
  },
  {
   "cell_type": "markdown",
   "metadata": {},
   "source": [
    "#### Max purchase amount"
   ]
  },
  {
   "cell_type": "code",
   "execution_count": 49,
   "metadata": {},
   "outputs": [
    {
     "data": {
      "text/plain": [
       "377.8"
      ]
     },
     "execution_count": 49,
     "metadata": {},
     "output_type": "execute_result"
    }
   ],
   "source": [
    "round(pos_df[pos_df['customer_id']=='CUS-809013380']['amount'].max(), 1)"
   ]
  },
  {
   "cell_type": "code",
   "execution_count": 50,
   "metadata": {},
   "outputs": [],
   "source": [
    "max_amount = []\n",
    "\n",
    "for i in df['customer_id']:\n",
    "    max_amount.append(round(pos_df[pos_df['customer_id']==i]['amount'].max(), 1))"
   ]
  },
  {
   "cell_type": "code",
   "execution_count": 51,
   "metadata": {},
   "outputs": [],
   "source": [
    "df['max_amount'] = max_amount"
   ]
  },
  {
   "cell_type": "markdown",
   "metadata": {},
   "source": [
    "#### Number of large transactions "
   ]
  },
  {
   "cell_type": "code",
   "execution_count": 52,
   "metadata": {},
   "outputs": [
    {
     "data": {
      "text/plain": [
       "1"
      ]
     },
     "execution_count": 52,
     "metadata": {},
     "output_type": "execute_result"
    }
   ],
   "source": [
    "pos_df[(pos_df['customer_id']=='CUS-2178051368') & (pos_df['amount']>100)]['amount'].count()"
   ]
  },
  {
   "cell_type": "code",
   "execution_count": 53,
   "metadata": {},
   "outputs": [],
   "source": [
    "num_large_trans = []\n",
    "\n",
    "for i in df['customer_id']:\n",
    "    num_large_trans.append(pos_df[(pos_df['customer_id']==i) & (pos_df['amount']>100)]['amount'].count())"
   ]
  },
  {
   "cell_type": "code",
   "execution_count": 54,
   "metadata": {},
   "outputs": [],
   "source": [
    "df['num_large_trans'] = num_large_trans"
   ]
  },
  {
   "cell_type": "markdown",
   "metadata": {},
   "source": [
    "#### Average transaction amount overall"
   ]
  },
  {
   "cell_type": "code",
   "execution_count": 55,
   "metadata": {},
   "outputs": [
    {
     "data": {
      "text/plain": [
       "152"
      ]
     },
     "execution_count": 55,
     "metadata": {},
     "output_type": "execute_result"
    }
   ],
   "source": [
    "int(round(df[df['customer_id']=='CUS-809013380']['amount'].mean(), 0))"
   ]
  },
  {
   "cell_type": "code",
   "execution_count": 56,
   "metadata": {},
   "outputs": [],
   "source": [
    "avg_trans_amount_overall = []\n",
    "\n",
    "for i in df['customer_id']:\n",
    "    avg_trans_amount_overall.append(int(round(df[df['customer_id']==i]['amount'].mean(), 0)))"
   ]
  },
  {
   "cell_type": "code",
   "execution_count": 57,
   "metadata": {},
   "outputs": [],
   "source": [
    "df['avg_trans_amount_overall'] = avg_trans_amount_overall"
   ]
  },
  {
   "cell_type": "markdown",
   "metadata": {},
   "source": [
    "#### Average balance"
   ]
  },
  {
   "cell_type": "code",
   "execution_count": 58,
   "metadata": {},
   "outputs": [
    {
     "data": {
      "text/plain": [
       "3123.7749999999996"
      ]
     },
     "execution_count": 58,
     "metadata": {},
     "output_type": "execute_result"
    }
   ],
   "source": [
    "df[df['customer_id']=='CUS-809013380']['balance'].median()"
   ]
  },
  {
   "cell_type": "code",
   "execution_count": 59,
   "metadata": {},
   "outputs": [],
   "source": [
    "med_balance = []\n",
    "\n",
    "for i in df['customer_id']:\n",
    "    med_balance.append(df[df['customer_id']==i]['balance'].median())"
   ]
  },
  {
   "cell_type": "code",
   "execution_count": 60,
   "metadata": {},
   "outputs": [],
   "source": [
    "df['med_balance'] = med_balance"
   ]
  },
  {
   "cell_type": "markdown",
   "metadata": {},
   "source": [
    "## All together"
   ]
  },
  {
   "cell_type": "code",
   "execution_count": 91,
   "metadata": {},
   "outputs": [],
   "source": [
    "# salaries = []\n",
    "# customer_state = []\n",
    "# avg_weekly_purch_num = []\n",
    "# avg_weekly_trans_num = []\n",
    "# no_trans_days = []\n",
    "# avg_trans_amount = []\n",
    "# max_amount = []\n",
    "# num_large_trans = []\n",
    "# avg_trans_amount_overall = []\n",
    "# med_balance = []\n",
    "\n",
    "# for i in df['customer_id']:\n",
    "#     salaries.append(int(annual_salaries.loc[i]))\n",
    "#     customer_state.append(customer_state_df[customer_state_df['id']==i]['state'].item())\n",
    "#     avg_weekly_purch_num.append(int(weekly_purch.loc[i]))\n",
    "#     avg_weekly_trans_num.append(int(weekly_trans.loc[i]))\n",
    "#     no_trans_days.append(pos_df[pos_df['customer_id']==i]['date'].nunique())\n",
    "#     avg_trans_amount.append(int(round(pos_df[pos_df['customer_id']==i]['amount'].mean(), 0)))\n",
    "#     max_amount.append(round(pos_df[pos_df['customer_id']==i]['amount'].max(), 1))\n",
    "#     num_large_trans.append(pos_df[(pos_df['customer_id']==i) & (pos_df['amount']>100)]['amount'].count())\n",
    "#     avg_trans_amount_overall.append(int(round(df[df['customer_id']==i]['amount'].mean(), 0)))\n",
    "#     med_balance.append(df[df['customer_id']==i]['balance'].median())\n",
    "    \n",
    "# df['annual_salary'] = salaries  \n",
    "# df['state'] = customer_state\n",
    "# df['avg_weekly_purch_num'] = avg_weekly_purch_num\n",
    "# df['avg_weekly_trans_num'] = avg_weekly_trans_num\n",
    "# df['no_trans_days'] = no_trans_days\n",
    "# df['avg_trans_amount'] = avg_trans_amount\n",
    "# df['max_amount'] = max_amount\n",
    "# df['num_large_trans'] = num_large_trans\n",
    "# df['avg_trans_amount_overall'] = avg_trans_amount_overall\n",
    "# df['med_balance'] = med_balance"
   ]
  },
  {
   "cell_type": "markdown",
   "metadata": {},
   "source": [
    "# Output file with new features"
   ]
  },
  {
   "cell_type": "code",
   "execution_count": 61,
   "metadata": {},
   "outputs": [
    {
     "name": "stdout",
     "output_type": "stream",
     "text": [
      "File saved!\n"
     ]
    }
   ],
   "source": [
    "df.to_excel('anz_new_feats.xlsx', index=False)\n",
    "print('File saved!')"
   ]
  }
 ],
 "metadata": {
  "kernelspec": {
   "display_name": "Python 3",
   "language": "python",
   "name": "python3"
  },
  "language_info": {
   "codemirror_mode": {
    "name": "ipython",
    "version": 3
   },
   "file_extension": ".py",
   "mimetype": "text/x-python",
   "name": "python",
   "nbconvert_exporter": "python",
   "pygments_lexer": "ipython3",
   "version": "3.7.4"
  }
 },
 "nbformat": 4,
 "nbformat_minor": 2
}
