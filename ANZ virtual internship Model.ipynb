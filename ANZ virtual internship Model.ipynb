{
 "cells": [
  {
   "cell_type": "markdown",
   "metadata": {},
   "source": [
    "# ANZ virtual internship \n",
    "## Building a salary predicting model"
   ]
  },
  {
   "cell_type": "markdown",
   "metadata": {},
   "source": [
    "Build a simple regression model to predict the annual salary for each customer using the attributes we identified earlier. \n",
    "\n",
    "How accurate is the model? Should ANZ use it to segment customers (for whom it does not have this data) into income brackets for reporting purposes?\n",
    "\n",
    "For a challenge: build a decision-tree based model to predict salary."
   ]
  },
  {
   "cell_type": "markdown",
   "metadata": {},
   "source": [
    "# Import libraries and data"
   ]
  },
  {
   "cell_type": "code",
   "execution_count": 385,
   "metadata": {},
   "outputs": [],
   "source": [
    "import pandas as pd\n",
    "import numpy as np\n",
    "import matplotlib.pyplot as plt\n",
    "import seaborn as sns\n",
    "from sklearn.model_selection import train_test_split\n",
    "sns.set_theme(style='whitegrid')\n",
    "%matplotlib inline"
   ]
  },
  {
   "cell_type": "markdown",
   "metadata": {},
   "source": [
    "### Load file"
   ]
  },
  {
   "cell_type": "code",
   "execution_count": 414,
   "metadata": {},
   "outputs": [
    {
     "data": {
      "text/html": [
       "<div>\n",
       "<style scoped>\n",
       "    .dataframe tbody tr th:only-of-type {\n",
       "        vertical-align: middle;\n",
       "    }\n",
       "\n",
       "    .dataframe tbody tr th {\n",
       "        vertical-align: top;\n",
       "    }\n",
       "\n",
       "    .dataframe thead th {\n",
       "        text-align: right;\n",
       "    }\n",
       "</style>\n",
       "<table border=\"1\" class=\"dataframe\">\n",
       "  <thead>\n",
       "    <tr style=\"text-align: right;\">\n",
       "      <th></th>\n",
       "      <th>status</th>\n",
       "      <th>card_present_flag</th>\n",
       "      <th>account</th>\n",
       "      <th>currency</th>\n",
       "      <th>txn_description</th>\n",
       "      <th>merchant_id</th>\n",
       "      <th>first_name</th>\n",
       "      <th>balance</th>\n",
       "      <th>gender</th>\n",
       "      <th>age</th>\n",
       "      <th>...</th>\n",
       "      <th>state</th>\n",
       "      <th>annual_salary</th>\n",
       "      <th>avg_weekly_purch_num</th>\n",
       "      <th>avg_weekly_trans_num</th>\n",
       "      <th>no_trans_days</th>\n",
       "      <th>avg_trans_amount</th>\n",
       "      <th>max_amount</th>\n",
       "      <th>num_large_trans</th>\n",
       "      <th>avg_trans_amount_overall</th>\n",
       "      <th>med_balance</th>\n",
       "    </tr>\n",
       "  </thead>\n",
       "  <tbody>\n",
       "    <tr>\n",
       "      <th>0</th>\n",
       "      <td>authorized</td>\n",
       "      <td>1.0</td>\n",
       "      <td>ACC-1598451071</td>\n",
       "      <td>AUD</td>\n",
       "      <td>POS</td>\n",
       "      <td>81c48296-73be-44a7-befa-d053f48ce7cd</td>\n",
       "      <td>Diana</td>\n",
       "      <td>35.39</td>\n",
       "      <td>F</td>\n",
       "      <td>26</td>\n",
       "      <td>...</td>\n",
       "      <td>QLD</td>\n",
       "      <td>56765</td>\n",
       "      <td>76</td>\n",
       "      <td>83</td>\n",
       "      <td>82</td>\n",
       "      <td>18</td>\n",
       "      <td>1452.2</td>\n",
       "      <td>4</td>\n",
       "      <td>45</td>\n",
       "      <td>1580.4</td>\n",
       "    </tr>\n",
       "    <tr>\n",
       "      <th>1</th>\n",
       "      <td>authorized</td>\n",
       "      <td>0.0</td>\n",
       "      <td>ACC-1598451071</td>\n",
       "      <td>AUD</td>\n",
       "      <td>SALES-POS</td>\n",
       "      <td>830a451c-316e-4a6a-bf25-e37caedca49e</td>\n",
       "      <td>Diana</td>\n",
       "      <td>21.20</td>\n",
       "      <td>F</td>\n",
       "      <td>26</td>\n",
       "      <td>...</td>\n",
       "      <td>QLD</td>\n",
       "      <td>56765</td>\n",
       "      <td>76</td>\n",
       "      <td>83</td>\n",
       "      <td>82</td>\n",
       "      <td>18</td>\n",
       "      <td>1452.2</td>\n",
       "      <td>4</td>\n",
       "      <td>45</td>\n",
       "      <td>1580.4</td>\n",
       "    </tr>\n",
       "  </tbody>\n",
       "</table>\n",
       "<p>2 rows × 38 columns</p>\n",
       "</div>"
      ],
      "text/plain": [
       "       status  card_present_flag         account currency txn_description  \\\n",
       "0  authorized                1.0  ACC-1598451071      AUD             POS   \n",
       "1  authorized                0.0  ACC-1598451071      AUD       SALES-POS   \n",
       "\n",
       "                            merchant_id first_name  balance gender  age  ...  \\\n",
       "0  81c48296-73be-44a7-befa-d053f48ce7cd      Diana    35.39      F   26  ...   \n",
       "1  830a451c-316e-4a6a-bf25-e37caedca49e      Diana    21.20      F   26  ...   \n",
       "\n",
       "  state annual_salary avg_weekly_purch_num  avg_weekly_trans_num  \\\n",
       "0   QLD         56765                   76                    83   \n",
       "1   QLD         56765                   76                    83   \n",
       "\n",
       "  no_trans_days avg_trans_amount max_amount num_large_trans  \\\n",
       "0            82               18     1452.2               4   \n",
       "1            82               18     1452.2               4   \n",
       "\n",
       "  avg_trans_amount_overall med_balance  \n",
       "0                       45      1580.4  \n",
       "1                       45      1580.4  \n",
       "\n",
       "[2 rows x 38 columns]"
      ]
     },
     "execution_count": 414,
     "metadata": {},
     "output_type": "execute_result"
    }
   ],
   "source": [
    "df = pd.read_excel('anz_new_feats.xlsx')\n",
    "df.head(2)"
   ]
  },
  {
   "cell_type": "markdown",
   "metadata": {},
   "source": [
    "### Encoding categorical features"
   ]
  },
  {
   "cell_type": "code",
   "execution_count": 415,
   "metadata": {},
   "outputs": [],
   "source": [
    "cat_feats = df[['status', 'txn_description', 'gender', 'state', 'age_bin']]"
   ]
  },
  {
   "cell_type": "code",
   "execution_count": 416,
   "metadata": {},
   "outputs": [
    {
     "data": {
      "text/html": [
       "<div>\n",
       "<style scoped>\n",
       "    .dataframe tbody tr th:only-of-type {\n",
       "        vertical-align: middle;\n",
       "    }\n",
       "\n",
       "    .dataframe tbody tr th {\n",
       "        vertical-align: top;\n",
       "    }\n",
       "\n",
       "    .dataframe thead th {\n",
       "        text-align: right;\n",
       "    }\n",
       "</style>\n",
       "<table border=\"1\" class=\"dataframe\">\n",
       "  <thead>\n",
       "    <tr style=\"text-align: right;\">\n",
       "      <th></th>\n",
       "      <th>status_posted</th>\n",
       "      <th>txn_description_PAY/SALARY</th>\n",
       "      <th>txn_description_PAYMENT</th>\n",
       "      <th>txn_description_PHONE BANK</th>\n",
       "      <th>txn_description_POS</th>\n",
       "      <th>txn_description_SALES-POS</th>\n",
       "      <th>gender_M</th>\n",
       "      <th>state_NT</th>\n",
       "      <th>state_QLD</th>\n",
       "      <th>state_SA</th>\n",
       "      <th>state_VIC</th>\n",
       "      <th>state_WA</th>\n",
       "      <th>age_bin_below20</th>\n",
       "      <th>age_bin_btwn20n40</th>\n",
       "      <th>age_bin_btwn40n60</th>\n",
       "    </tr>\n",
       "  </thead>\n",
       "  <tbody>\n",
       "    <tr>\n",
       "      <th>0</th>\n",
       "      <td>0</td>\n",
       "      <td>0</td>\n",
       "      <td>0</td>\n",
       "      <td>0</td>\n",
       "      <td>1</td>\n",
       "      <td>0</td>\n",
       "      <td>0</td>\n",
       "      <td>0</td>\n",
       "      <td>1</td>\n",
       "      <td>0</td>\n",
       "      <td>0</td>\n",
       "      <td>0</td>\n",
       "      <td>0</td>\n",
       "      <td>1</td>\n",
       "      <td>0</td>\n",
       "    </tr>\n",
       "    <tr>\n",
       "      <th>1</th>\n",
       "      <td>0</td>\n",
       "      <td>0</td>\n",
       "      <td>0</td>\n",
       "      <td>0</td>\n",
       "      <td>0</td>\n",
       "      <td>1</td>\n",
       "      <td>0</td>\n",
       "      <td>0</td>\n",
       "      <td>1</td>\n",
       "      <td>0</td>\n",
       "      <td>0</td>\n",
       "      <td>0</td>\n",
       "      <td>0</td>\n",
       "      <td>1</td>\n",
       "      <td>0</td>\n",
       "    </tr>\n",
       "  </tbody>\n",
       "</table>\n",
       "</div>"
      ],
      "text/plain": [
       "   status_posted  txn_description_PAY/SALARY  txn_description_PAYMENT  \\\n",
       "0              0                           0                        0   \n",
       "1              0                           0                        0   \n",
       "\n",
       "   txn_description_PHONE BANK  txn_description_POS  txn_description_SALES-POS  \\\n",
       "0                           0                    1                          0   \n",
       "1                           0                    0                          1   \n",
       "\n",
       "   gender_M  state_NT  state_QLD  state_SA  state_VIC  state_WA  \\\n",
       "0         0         0          1         0          0         0   \n",
       "1         0         0          1         0          0         0   \n",
       "\n",
       "   age_bin_below20  age_bin_btwn20n40  age_bin_btwn40n60  \n",
       "0                0                  1                  0  \n",
       "1                0                  1                  0  "
      ]
     },
     "execution_count": 416,
     "metadata": {},
     "output_type": "execute_result"
    }
   ],
   "source": [
    "cat_feats = pd.get_dummies(cat_feats, drop_first=True)\n",
    "cat_feats.head(2)"
   ]
  },
  {
   "cell_type": "code",
   "execution_count": 417,
   "metadata": {},
   "outputs": [
    {
     "data": {
      "text/html": [
       "<div>\n",
       "<style scoped>\n",
       "    .dataframe tbody tr th:only-of-type {\n",
       "        vertical-align: middle;\n",
       "    }\n",
       "\n",
       "    .dataframe tbody tr th {\n",
       "        vertical-align: top;\n",
       "    }\n",
       "\n",
       "    .dataframe thead th {\n",
       "        text-align: right;\n",
       "    }\n",
       "</style>\n",
       "<table border=\"1\" class=\"dataframe\">\n",
       "  <thead>\n",
       "    <tr style=\"text-align: right;\">\n",
       "      <th></th>\n",
       "      <th>balance</th>\n",
       "      <th>amount</th>\n",
       "      <th>annual_salary</th>\n",
       "      <th>avg_weekly_purch_num</th>\n",
       "      <th>avg_weekly_trans_num</th>\n",
       "      <th>no_trans_days</th>\n",
       "      <th>avg_trans_amount</th>\n",
       "      <th>max_amount</th>\n",
       "      <th>num_large_trans</th>\n",
       "      <th>avg_trans_amount_overall</th>\n",
       "      <th>med_balance</th>\n",
       "    </tr>\n",
       "  </thead>\n",
       "  <tbody>\n",
       "    <tr>\n",
       "      <th>0</th>\n",
       "      <td>35.39</td>\n",
       "      <td>16.25</td>\n",
       "      <td>56765</td>\n",
       "      <td>76</td>\n",
       "      <td>83</td>\n",
       "      <td>82</td>\n",
       "      <td>18</td>\n",
       "      <td>1452.2</td>\n",
       "      <td>4</td>\n",
       "      <td>45</td>\n",
       "      <td>1580.40</td>\n",
       "    </tr>\n",
       "    <tr>\n",
       "      <th>1</th>\n",
       "      <td>21.20</td>\n",
       "      <td>14.19</td>\n",
       "      <td>56765</td>\n",
       "      <td>76</td>\n",
       "      <td>83</td>\n",
       "      <td>82</td>\n",
       "      <td>18</td>\n",
       "      <td>1452.2</td>\n",
       "      <td>4</td>\n",
       "      <td>45</td>\n",
       "      <td>1580.40</td>\n",
       "    </tr>\n",
       "    <tr>\n",
       "      <th>2</th>\n",
       "      <td>5.71</td>\n",
       "      <td>6.42</td>\n",
       "      <td>52110</td>\n",
       "      <td>39</td>\n",
       "      <td>43</td>\n",
       "      <td>70</td>\n",
       "      <td>35</td>\n",
       "      <td>2349.6</td>\n",
       "      <td>7</td>\n",
       "      <td>78</td>\n",
       "      <td>1132.66</td>\n",
       "    </tr>\n",
       "  </tbody>\n",
       "</table>\n",
       "</div>"
      ],
      "text/plain": [
       "   balance  amount  annual_salary  avg_weekly_purch_num  avg_weekly_trans_num  \\\n",
       "0    35.39   16.25          56765                    76                    83   \n",
       "1    21.20   14.19          56765                    76                    83   \n",
       "2     5.71    6.42          52110                    39                    43   \n",
       "\n",
       "   no_trans_days  avg_trans_amount  max_amount  num_large_trans  \\\n",
       "0             82                18      1452.2                4   \n",
       "1             82                18      1452.2                4   \n",
       "2             70                35      2349.6                7   \n",
       "\n",
       "   avg_trans_amount_overall  med_balance  \n",
       "0                        45      1580.40  \n",
       "1                        45      1580.40  \n",
       "2                        78      1132.66  "
      ]
     },
     "execution_count": 417,
     "metadata": {},
     "output_type": "execute_result"
    }
   ],
   "source": [
    "num_feats = df[['balance', 'amount', 'annual_salary', 'avg_weekly_purch_num', 'avg_weekly_trans_num', 'no_trans_days', \n",
    "'avg_trans_amount', 'max_amount', 'num_large_trans', 'avg_trans_amount_overall', 'med_balance']]\n",
    "num_feats.head(3)"
   ]
  },
  {
   "cell_type": "markdown",
   "metadata": {},
   "source": [
    "## Check correlation"
   ]
  },
  {
   "cell_type": "code",
   "execution_count": 418,
   "metadata": {},
   "outputs": [],
   "source": [
    "# dropping avg_trans_amount_overall because it also contains salary payments\n",
    "num_feats = num_feats.drop('avg_trans_amount_overall', axis=1) "
   ]
  },
  {
   "cell_type": "code",
   "execution_count": 419,
   "metadata": {},
   "outputs": [
    {
     "data": {
      "text/plain": [
       "annual_salary           1.000000\n",
       "med_balance             0.258076\n",
       "balance                 0.257159\n",
       "amount                  0.091111\n",
       "avg_trans_amount        0.044312\n",
       "num_large_trans        -0.045275\n",
       "avg_weekly_trans_num   -0.079352\n",
       "max_amount             -0.097739\n",
       "no_trans_days          -0.172765\n",
       "avg_weekly_purch_num   -0.189532\n",
       "Name: annual_salary, dtype: float64"
      ]
     },
     "execution_count": 419,
     "metadata": {},
     "output_type": "execute_result"
    }
   ],
   "source": [
    "num_feats.corr()['annual_salary'].sort_values(ascending=False)"
   ]
  },
  {
   "cell_type": "markdown",
   "metadata": {},
   "source": [
    "##### *Scale numerical features*"
   ]
  },
  {
   "cell_type": "code",
   "execution_count": 392,
   "metadata": {},
   "outputs": [],
   "source": [
    "# from sklearn.preprocessing import MinMaxScaler"
   ]
  },
  {
   "cell_type": "code",
   "execution_count": 393,
   "metadata": {},
   "outputs": [],
   "source": [
    "# numerical_feats = num_feats.drop('annual_salary', axis=1)"
   ]
  },
  {
   "cell_type": "code",
   "execution_count": 394,
   "metadata": {},
   "outputs": [],
   "source": [
    "# scaler_x = MinMaxScaler()\n",
    "# num_feats_scaled = scaler_x.fit_transform(numerical_feats)\n",
    "\n",
    "# salary = df['annual_salary'].values.reshape(-1, 1)\n",
    "# scaler_y = MinMaxScaler()\n",
    "# salary_scaled = scaler_y.fit_transform(salary)"
   ]
  },
  {
   "cell_type": "code",
   "execution_count": 395,
   "metadata": {},
   "outputs": [],
   "source": [
    "# get column names\n",
    "# scaled_num_df = pd.DataFrame(data = num_feats_scaled, columns = numerical_feats.columns, index = numerical_feats.index)\n",
    "# Pass the index of df_merged_num, otherwise it will sum up the index."
   ]
  },
  {
   "cell_type": "code",
   "execution_count": 396,
   "metadata": {},
   "outputs": [],
   "source": [
    "# scaled_y = pd.DataFrame(data = salary_scaled, columns = ['annual_salary'], index = numerical_feats.index)"
   ]
  },
  {
   "cell_type": "code",
   "execution_count": 397,
   "metadata": {},
   "outputs": [],
   "source": [
    "# merge model features to one dataframe\n",
    "# frames = [scaled_num_df, cat_feats]\n",
    "# model_feats = pd.concat(frames, axis=1)"
   ]
  },
  {
   "cell_type": "markdown",
   "metadata": {},
   "source": [
    "##### *SCALED Split train and test data*"
   ]
  },
  {
   "cell_type": "code",
   "execution_count": 398,
   "metadata": {},
   "outputs": [],
   "source": [
    "# X = model_feats\n",
    "# y = scaled_y"
   ]
  },
  {
   "cell_type": "code",
   "execution_count": 399,
   "metadata": {},
   "outputs": [],
   "source": [
    "# X_train, X_test, y_train, y_test = train_test_split(X, y, test_size=0.3, random_state=101)"
   ]
  },
  {
   "cell_type": "markdown",
   "metadata": {},
   "source": [
    "### Define data"
   ]
  },
  {
   "cell_type": "code",
   "execution_count": 420,
   "metadata": {},
   "outputs": [],
   "source": [
    "num_feats = num_feats.drop('annual_salary', axis=1)"
   ]
  },
  {
   "cell_type": "code",
   "execution_count": 421,
   "metadata": {},
   "outputs": [],
   "source": [
    "# merge model features to one dataframe\n",
    "frames = [num_feats, cat_feats]\n",
    "model_feats = pd.concat(frames, axis=1)"
   ]
  },
  {
   "cell_type": "markdown",
   "metadata": {},
   "source": [
    "### NOT SCALED Split train and test data"
   ]
  },
  {
   "cell_type": "code",
   "execution_count": 402,
   "metadata": {},
   "outputs": [],
   "source": [
    "X = model_feats\n",
    "y = df['annual_salary']"
   ]
  },
  {
   "cell_type": "code",
   "execution_count": 403,
   "metadata": {},
   "outputs": [],
   "source": [
    "X_train, X_test, y_train, y_test = train_test_split(X, y, test_size=0.3, random_state=101)"
   ]
  },
  {
   "cell_type": "markdown",
   "metadata": {},
   "source": [
    "# Creating a  Linear Regression Model"
   ]
  },
  {
   "cell_type": "code",
   "execution_count": 404,
   "metadata": {},
   "outputs": [],
   "source": [
    "from sklearn.linear_model import LinearRegression\n",
    "from sklearn.metrics import median_absolute_error, r2_score"
   ]
  },
  {
   "cell_type": "code",
   "execution_count": 405,
   "metadata": {},
   "outputs": [
    {
     "data": {
      "text/plain": [
       "LinearRegression(copy_X=True, fit_intercept=True, n_jobs=None, normalize=False)"
      ]
     },
     "execution_count": 405,
     "metadata": {},
     "output_type": "execute_result"
    }
   ],
   "source": [
    "lm = LinearRegression()\n",
    "lm.fit(X_train, y_train)"
   ]
  },
  {
   "cell_type": "code",
   "execution_count": 406,
   "metadata": {},
   "outputs": [],
   "source": [
    "preds_lm = lm.predict(X_test)"
   ]
  },
  {
   "cell_type": "markdown",
   "metadata": {},
   "source": [
    "### Valuating the model"
   ]
  },
  {
   "cell_type": "code",
   "execution_count": 407,
   "metadata": {},
   "outputs": [],
   "source": [
    "from sklearn import metrics\n",
    "from sklearn.metrics import r2_score, explained_variance_score"
   ]
  },
  {
   "cell_type": "code",
   "execution_count": 408,
   "metadata": {},
   "outputs": [
    {
     "name": "stdout",
     "output_type": "stream",
     "text": [
      "R-squared 0.5381890117545585\n",
      "MAE: 13706.815968071387\n",
      "MSE: 323705668.54002833\n",
      "RMSE: 17991.822268464868\n"
     ]
    }
   ],
   "source": [
    "print('R-squared', r2_score(y_test, preds_lm)) # accounts for the variation\n",
    "print('MAE:', metrics.mean_absolute_error(y_test, preds_lm))\n",
    "print('MSE:', metrics.mean_squared_error(y_test, preds_lm))\n",
    "print('RMSE:', np.sqrt(metrics.mean_squared_error(y_test, preds_lm))) # directly comparable witht data, $"
   ]
  },
  {
   "cell_type": "code",
   "execution_count": 409,
   "metadata": {},
   "outputs": [],
   "source": [
    "preds_lm = preds_lm.reshape(-1, 1)"
   ]
  },
  {
   "cell_type": "code",
   "execution_count": 410,
   "metadata": {},
   "outputs": [],
   "source": [
    "y_test = y_test.values.reshape(-1, 1)"
   ]
  },
  {
   "cell_type": "code",
   "execution_count": 411,
   "metadata": {},
   "outputs": [],
   "source": [
    "preds_lm = scaler_y.inverse_transform(preds_lm)\n",
    "y_test = scaler_y.inverse_transform(y_test)"
   ]
  },
  {
   "cell_type": "code",
   "execution_count": 413,
   "metadata": {},
   "outputs": [
    {
     "data": {
      "image/png": "[encoded data removed]",
      "text/plain": [
       "<Figure size 432x288 with 1 Axes>"
      ]
     },
     "metadata": {
      "needs_background": "light"
     },
     "output_type": "display_data"
    }
   ],
   "source": [
    "# Our predictions\n",
    "plt.scatter(y_test, preds_lm)\n",
    "\n",
    "# Perfect predictions\n",
    "plt.plot(y_test, y_test,'r');"
   ]
  },
  {
   "cell_type": "code",
   "execution_count": 323,
   "metadata": {},
   "outputs": [
    {
     "data": {
      "text/html": [
       "<div>\n",
       "<style scoped>\n",
       "    .dataframe tbody tr th:only-of-type {\n",
       "        vertical-align: middle;\n",
       "    }\n",
       "\n",
       "    .dataframe tbody tr th {\n",
       "        vertical-align: top;\n",
       "    }\n",
       "\n",
       "    .dataframe thead th {\n",
       "        text-align: right;\n",
       "    }\n",
       "</style>\n",
       "<table border=\"1\" class=\"dataframe\">\n",
       "  <thead>\n",
       "    <tr style=\"text-align: right;\">\n",
       "      <th></th>\n",
       "      <th>Test Y</th>\n",
       "      <th>Predicted</th>\n",
       "    </tr>\n",
       "  </thead>\n",
       "  <tbody>\n",
       "    <tr>\n",
       "      <th>0</th>\n",
       "      <td>4.894142e+09</td>\n",
       "      <td>5.216645e+09</td>\n",
       "    </tr>\n",
       "    <tr>\n",
       "      <th>1</th>\n",
       "      <td>7.846440e+09</td>\n",
       "      <td>6.231833e+09</td>\n",
       "    </tr>\n",
       "    <tr>\n",
       "      <th>2</th>\n",
       "      <td>5.875535e+09</td>\n",
       "      <td>5.806258e+09</td>\n",
       "    </tr>\n",
       "    <tr>\n",
       "      <th>3</th>\n",
       "      <td>8.966519e+09</td>\n",
       "      <td>7.714016e+09</td>\n",
       "    </tr>\n",
       "    <tr>\n",
       "      <th>4</th>\n",
       "      <td>6.685095e+09</td>\n",
       "      <td>9.128919e+09</td>\n",
       "    </tr>\n",
       "  </tbody>\n",
       "</table>\n",
       "</div>"
      ],
      "text/plain": [
       "         Test Y     Predicted\n",
       "0  4.894142e+09  5.216645e+09\n",
       "1  7.846440e+09  6.231833e+09\n",
       "2  5.875535e+09  5.806258e+09\n",
       "3  8.966519e+09  7.714016e+09\n",
       "4  6.685095e+09  9.128919e+09"
      ]
     },
     "execution_count": 323,
     "metadata": {},
     "output_type": "execute_result"
    }
   ],
   "source": [
    "# Test data real sale price dataframe\n",
    "test_salary_df = pd.DataFrame(y_test, columns=['Test Y'])\n",
    "\n",
    "# Predicted prices dataframe\n",
    "preds_reshape = pd.Series(preds_lm.reshape(3576,))\n",
    "preds = pd.DataFrame(preds_reshape, columns = ['Predicted'])\n",
    "\n",
    "# Merge real price and predicted price dataframes\n",
    "compare_salary_df = pd.merge(test_salary_df, preds, how = 'inner', left_index = True, right_index = True)\n",
    "compare_salary_df.head(5)"
   ]
  },
  {
   "cell_type": "code",
   "execution_count": 324,
   "metadata": {},
   "outputs": [],
   "source": [
    "# Add a new column with error in prediction compared\n",
    "compare_salary_df['Error'] = compare_salary_df['Test Y'] - compare_salary_df['Predicted']"
   ]
  },
  {
   "cell_type": "code",
   "execution_count": 325,
   "metadata": {},
   "outputs": [
    {
     "data": {
      "text/plain": [
       "<seaborn.axisgrid.FacetGrid at 0x7fad6b4ac4d0>"
      ]
     },
     "execution_count": 325,
     "metadata": {},
     "output_type": "execute_result"
    },
    {
     "data": {
      "image/png": "[encoded data removed]",
      "text/plain": [
       "<Figure size 360x360 with 1 Axes>"
      ]
     },
     "metadata": {
      "needs_background": "light"
     },
     "output_type": "display_data"
    }
   ],
   "source": [
    "sns.displot(compare_salary_df['Error'], bins = 50, kde = True)"
   ]
  },
  {
   "cell_type": "markdown",
   "metadata": {},
   "source": [
    "# Gradient boosting for regression"
   ]
  },
  {
   "cell_type": "markdown",
   "metadata": {},
   "source": [
    "### Split train and test data"
   ]
  },
  {
   "cell_type": "code",
   "execution_count": 451,
   "metadata": {},
   "outputs": [],
   "source": [
    "X = model_feats\n",
    "y = df['annual_salary']"
   ]
  },
  {
   "cell_type": "code",
   "execution_count": 452,
   "metadata": {},
   "outputs": [],
   "source": [
    "X_train, X_test, y_train, y_test = train_test_split(X, y, test_size=0.3, random_state=101)"
   ]
  },
  {
   "cell_type": "code",
   "execution_count": 453,
   "metadata": {},
   "outputs": [],
   "source": [
    "from numpy import mean\n",
    "from numpy import std\n",
    "from sklearn.model_selection import cross_val_score\n",
    "from sklearn.model_selection import RepeatedKFold\n",
    "from sklearn.model_selection import GridSearchCV\n",
    "from sklearn.ensemble import GradientBoostingRegressor"
   ]
  },
  {
   "cell_type": "code",
   "execution_count": 454,
   "metadata": {},
   "outputs": [],
   "source": [
    "params = {'n_estimators': 400,\n",
    "          'max_depth': 4,\n",
    "          'min_samples_split': 5,\n",
    "          'learning_rate': 0.01,\n",
    "          'loss': 'ls'}"
   ]
  },
  {
   "cell_type": "code",
   "execution_count": 455,
   "metadata": {},
   "outputs": [],
   "source": [
    "model = GradientBoostingRegressor(**params)"
   ]
  },
  {
   "cell_type": "code",
   "execution_count": 456,
   "metadata": {},
   "outputs": [],
   "source": [
    "y_train = y_train.values.ravel()"
   ]
  },
  {
   "cell_type": "code",
   "execution_count": 457,
   "metadata": {},
   "outputs": [
    {
     "data": {
      "text/plain": [
       "GradientBoostingRegressor(alpha=0.9, criterion='friedman_mse', init=None,\n",
       "                          learning_rate=0.01, loss='ls', max_depth=4,\n",
       "                          max_features=None, max_leaf_nodes=None,\n",
       "                          min_impurity_decrease=0.0, min_impurity_split=None,\n",
       "                          min_samples_leaf=1, min_samples_split=5,\n",
       "                          min_weight_fraction_leaf=0.0, n_estimators=400,\n",
       "                          n_iter_no_change=None, presort='auto',\n",
       "                          random_state=None, subsample=1.0, tol=0.0001,\n",
       "                          validation_fraction=0.1, verbose=0, warm_start=False)"
      ]
     },
     "execution_count": 457,
     "metadata": {},
     "output_type": "execute_result"
    }
   ],
   "source": [
    "model.fit(X_train, y_train)"
   ]
  },
  {
   "cell_type": "code",
   "execution_count": 458,
   "metadata": {},
   "outputs": [],
   "source": [
    "boost_preds = model.predict(X_test)"
   ]
  },
  {
   "cell_type": "markdown",
   "metadata": {},
   "source": [
    "### Valuating the model"
   ]
  },
  {
   "cell_type": "code",
   "execution_count": 459,
   "metadata": {},
   "outputs": [],
   "source": [
    "from sklearn import metrics\n",
    "from sklearn.metrics import r2_score, explained_variance_score"
   ]
  },
  {
   "cell_type": "code",
   "execution_count": 460,
   "metadata": {},
   "outputs": [
    {
     "name": "stdout",
     "output_type": "stream",
     "text": [
      "R-squared 0.9694667021572054\n",
      "MAE: 3422.7315716930984\n",
      "MSE: 21402265.954054385\n",
      "RMSE: 4626.258310346968\n"
     ]
    }
   ],
   "source": [
    "print('R-squared', r2_score(y_test, boost_preds)) # accounts for the variation\n",
    "print('MAE:', metrics.mean_absolute_error(y_test, boost_preds))\n",
    "print('MSE:', metrics.mean_squared_error(y_test, boost_preds))\n",
    "print('RMSE:', np.sqrt(metrics.mean_squared_error(y_test, boost_preds))) # directly comparable witht data, $"
   ]
  },
  {
   "cell_type": "code",
   "execution_count": 461,
   "metadata": {},
   "outputs": [
    {
     "data": {
      "text/plain": [
       "[<matplotlib.lines.Line2D at 0x7fad6ec30b50>]"
      ]
     },
     "execution_count": 461,
     "metadata": {},
     "output_type": "execute_result"
    },
    {
     "data": {
      "image/png": "[encoded data removed]",
      "text/plain": [
       "<Figure size 432x288 with 1 Axes>"
      ]
     },
     "metadata": {
      "needs_background": "light"
     },
     "output_type": "display_data"
    }
   ],
   "source": [
    "# Our predictions\n",
    "plt.scatter(y_test, boost_preds)\n",
    "\n",
    "# Perfect predictions\n",
    "plt.plot(y_test, y_test,'r')"
   ]
  },
  {
   "cell_type": "code",
   "execution_count": 462,
   "metadata": {},
   "outputs": [],
   "source": [
    "test_score = np.zeros((params['n_estimators'],), dtype=np.float64)\n",
    "for i, boost_preds in enumerate(model.staged_predict(X_test)):\n",
    "    test_score[i] = model.loss_(y_test, boost_preds)"
   ]
  },
  {
   "cell_type": "code",
   "execution_count": 463,
   "metadata": {},
   "outputs": [
    {
     "data": {
      "image/png": "[encoded data removed]",
      "text/plain": [
       "<Figure size 432x432 with 1 Axes>"
      ]
     },
     "metadata": {
      "needs_background": "light"
     },
     "output_type": "display_data"
    }
   ],
   "source": [
    "fig = plt.figure(figsize=(6, 6))\n",
    "plt.subplot(1, 1, 1)\n",
    "plt.title('Deviance')\n",
    "plt.plot(np.arange(params['n_estimators']) + 1, model.train_score_, 'b-',\n",
    "         label='Training Set Deviance')\n",
    "plt.plot(np.arange(params['n_estimators']) + 1, test_score, 'r-',\n",
    "         label='Test Set Deviance')\n",
    "plt.legend(loc='upper right')\n",
    "plt.xlabel('Boosting Iterations')\n",
    "plt.ylabel('Deviance')\n",
    "fig.tight_layout()\n",
    "plt.show()"
   ]
  },
  {
   "cell_type": "code",
   "execution_count": null,
   "metadata": {},
   "outputs": [],
   "source": []
  }
 ],
 "metadata": {
  "kernelspec": {
   "display_name": "Python 3",
   "language": "python",
   "name": "python3"
  },
  "language_info": {
   "codemirror_mode": {
    "name": "ipython",
    "version": 3
   },
   "file_extension": ".py",
   "mimetype": "text/x-python",
   "name": "python",
   "nbconvert_exporter": "python",
   "pygments_lexer": "ipython3",
   "version": "3.7.4"
  }
 },
 "nbformat": 4,
 "nbformat_minor": 2
}
